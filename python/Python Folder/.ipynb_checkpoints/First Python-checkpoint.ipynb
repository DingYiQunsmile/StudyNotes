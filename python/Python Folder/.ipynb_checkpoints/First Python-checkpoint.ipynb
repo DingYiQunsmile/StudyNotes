{
 "cells": [
  {
   "cell_type": "markdown",
   "metadata": {},
   "source": [
    "## 1.给定一个字符串，请你找出其中不含有重复字符的 最长子串 的长度。\n",
    "\n",
    "### 示例 1:\n",
    "\n",
    "输入: \"abcabcbb\"\n",
    "\n",
    "输出: 3 \n",
    "\n",
    "解释: 因为无重复字符的最长子串是 \"abc\"，所以其长度为 3。\n",
    "\n",
    "### 示例 2:\n",
    "\n",
    "输入: \"bbbbb\"\n",
    "\n",
    "输出: 1\n",
    "\n",
    "解释: 因为无重复字符的最长子串是 \"b\"，所以其长度为 1。\n",
    "\n",
    "### 示例 3:\n",
    "\n",
    "输入: \"pwwkew\"\n",
    "\n",
    "输出: 3\n",
    "\n",
    "解释: 因为无重复字符的最长子串是 \"wke\"，所以其长度为 3。\n",
    "\n",
    "`请注意，你的答案必须是 子串 的长度，\"pwke\" 是一个子序列，不是子串。`"
   ]
  },
  {
   "cell_type": "code",
   "execution_count": 2,
   "metadata": {},
   "outputs": [
    {
     "name": "stdout",
     "output_type": "stream",
     "text": [
      "5\n"
     ]
    }
   ],
   "source": [
    "class Solution:\n",
    "    def lengthOfLongestSubstring(s):\n",
    "        max_number = 0\n",
    "        number = 0\n",
    "        test = ''\n",
    "        for i in s:\n",
    "            if i not in test:  # 如果此时的字符既在s当中又在test当中\n",
    "                test += i  # 就将此时的的字符加入到test字典当中\n",
    "                number += 1\n",
    "            else:\n",
    "                if number >= max_number:\n",
    "                    max_number = number\n",
    "                index = test.index(i)\n",
    "                test = test[(index + 1):] + i\n",
    "                number = len(test)\n",
    "        if number > max_number:\n",
    "            max_number = number\n",
    "        return max_number\n",
    "if __name__ == '__main__':\n",
    "    number = Solution.lengthOfLongestSubstring('wanghao')\n",
    "    print(number)\n"
   ]
  },
  {
   "cell_type": "markdown",
   "metadata": {},
   "source": [
    "## 2.给定一个整数数组 nums 和一个目标值 target\n",
    "## 请你在该数组中找出和为目标值的那 两个 整数，并返回他们的数组下标。\n",
    "\n",
    "你可以假设每种输入只会对应一个答案。但是，你不能重复利用这个数组中同样的元素。\n",
    "\n",
    "示例:\n",
    "\n",
    "给定 `nums = [2, 7, 11, 15], target = 9`\n",
    "\n",
    "因为 `nums[0] + nums[1] = 2 + 7 = 9`\n",
    "\n",
    "所以返回 `[0, 1]`"
   ]
  },
  {
   "cell_type": "code",
   "execution_count": 1,
   "metadata": {},
   "outputs": [
    {
     "name": "stdout",
     "output_type": "stream",
     "text": [
      "[0, 1]\n"
     ]
    }
   ],
   "source": [
    "class Solution:\n",
    "    def twoSum(nums, target):\n",
    "        for x in range(0,len(nums)):\n",
    "            for y in range(x + 1,len(nums)):\n",
    "                if nums[x] + nums[y] == target:\n",
    "                    return [x,y]\n",
    "if __name__ == '__main__':\n",
    "    nums = [2,7,11,15]\n",
    "    print(Solution.twoSum(nums,9))"
   ]
  }
 ],
 "metadata": {
  "kernelspec": {
   "display_name": "Python 3",
   "language": "python",
   "name": "python3"
  },
  "language_info": {
   "codemirror_mode": {
    "name": "ipython",
    "version": 3
   },
   "file_extension": ".py",
   "mimetype": "text/x-python",
   "name": "python",
   "nbconvert_exporter": "python",
   "pygments_lexer": "ipython3",
   "version": "3.6.4"
  }
 },
 "nbformat": 4,
 "nbformat_minor": 2
}
